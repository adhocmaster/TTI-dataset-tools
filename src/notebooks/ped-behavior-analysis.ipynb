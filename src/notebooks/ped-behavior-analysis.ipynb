{
 "cells": [
  {
   "cell_type": "markdown",
   "id": "36fa93b9-1e35-48a7-8c37-6b5690c9007e",
   "metadata": {},
   "source": [
    "# TO RUN\n",
    "1. Make sure you installed all the dependencies\n",
    "2. open **'init_notebook.py'** and change the **projectFolder** to the src folder of the repository.\n",
    "3. In the following cell change the dataDir to the data directory of the InD dataset"
   ]
  },
  {
   "cell_type": "code",
   "execution_count": 7,
   "id": "4954288b-729b-474d-8d49-483ef4e38618",
   "metadata": {},
   "outputs": [],
   "source": [
    "dataDir = \"C:/AV/Carla/CARLA_0.9.13/WindowsNoEditor/PythonAPI/experiments/logs\"\n"
   ]
  },
  {
   "cell_type": "code",
   "execution_count": 4,
   "id": "ba8ff1ca-193d-4071-a50c-a166813de3e1",
   "metadata": {},
   "outputs": [
    {
     "name": "stdout",
     "output_type": "stream",
     "text": [
      "current working dirD:\\AV\\DataSetExploration\\TTI-dataset-tools\\src\n"
     ]
    }
   ],
   "source": [
    "exec(open('init_notebook.py').read())"
   ]
  },
  {
   "cell_type": "code",
   "execution_count": 5,
   "id": "cedd5eee-d5a4-4bb6-8da8-49e6cf813857",
   "metadata": {},
   "outputs": [],
   "source": [
    "%load_ext autoreload\n",
    "%autoreload 2"
   ]
  },
  {
   "cell_type": "code",
   "execution_count": 6,
   "id": "6df17643-c54c-4d03-adea-a765e0cdfaa4",
   "metadata": {},
   "outputs": [],
   "source": [
    "import pandas as pd\n",
    "import os\n",
    "import seaborn as sns\n",
    "import matplotlib.pyplot as plt\n",
    "\n",
    "from tti_dataset_tools.TrajectoryTransformer import TrajectoryTransformer\n",
    "from tti_dataset_tools.TrajectoryVisualizer import TrajectoryVisualizer\n",
    "from tti_dataset_tools.TrajectoryCleaner import TrajectoryCleaner\n",
    "from tti_dataset_tools.ColMapper import ColMapper"
   ]
  },
  {
   "cell_type": "code",
   "execution_count": 18,
   "id": "60852d44-ec5a-4420-9287-73f45acf35b4",
   "metadata": {},
   "outputs": [
    {
     "name": "stdout",
     "output_type": "stream",
     "text": [
      "     recordingId  trackId       class  frame     x     y  heading  \\\n",
      "250            1      409  pedestrian      1 -84.0  25.0      0.0   \n",
      "251            1      409  pedestrian      2 -84.0  25.0      0.0   \n",
      "252            1      409  pedestrian      3 -84.0  25.0      0.0   \n",
      "253            1      409  pedestrian      4 -84.0  25.0      0.0   \n",
      "254            1      409  pedestrian      5 -84.0  25.0      0.0   \n",
      "\n",
      "           state  uniqueTrackId  \n",
      "250  INITALIZING        1000409  \n",
      "251  INITALIZING        1000409  \n",
      "252  INITALIZING        1000409  \n",
      "253  INITALIZING        1000409  \n",
      "254  INITALIZING        1000409  \n"
     ]
    }
   ],
   "source": [
    "date = \"2023-09-10-00-00\"\n",
    "fps=25\n",
    "minYDisplacement = 5\n",
    "maxXDisplacement = 9\n",
    "df = pd.read_csv(os.path.join(dataDir, f\"{date}-tracks.csv\"))\n",
    "df[\"uniqueTrackId\"] = df[\"recordingId\"] * 1000000 + df[\"trackId\"]\n",
    "pedDf = df[df[\"class\"] == \"pedestrian\"].copy()\n",
    "otherDf = df[df[\"class\"] != \"pedestrian\"].copy()\n",
    "print(pedDf.head())"
   ]
  },
  {
   "cell_type": "code",
   "execution_count": 15,
   "id": "9ecb6d3e-7a6a-47fa-8eee-acc1f0ce258a",
   "metadata": {},
   "outputs": [],
   "source": [
    "visualizer = TrajectoryVisualizer()\n",
    "colMapper = ColMapper(\n",
    "        idCol='uniqueTrackId', \n",
    "        xCol='x', \n",
    "        yCol='y',\n",
    "        xVelCol='xVel', \n",
    "        yVelCol='yVel', \n",
    "        speedCol='speed',\n",
    "        fps=fps,\n",
    "    )\n",
    "transformer = TrajectoryTransformer(colMapper)"
   ]
  },
  {
   "cell_type": "code",
   "execution_count": 19,
   "id": "872eb48f-0581-41cb-93d1-23c0731ef323",
   "metadata": {},
   "outputs": [
    {
     "data": {
      "text/html": [
       "<div>\n",
       "<style scoped>\n",
       "    .dataframe tbody tr th:only-of-type {\n",
       "        vertical-align: middle;\n",
       "    }\n",
       "\n",
       "    .dataframe tbody tr th {\n",
       "        vertical-align: top;\n",
       "    }\n",
       "\n",
       "    .dataframe thead th {\n",
       "        text-align: right;\n",
       "    }\n",
       "</style>\n",
       "<table border=\"1\" class=\"dataframe\">\n",
       "  <thead>\n",
       "    <tr style=\"text-align: right;\">\n",
       "      <th></th>\n",
       "      <th>recordingId</th>\n",
       "      <th>trackId</th>\n",
       "      <th>frame</th>\n",
       "      <th>x</th>\n",
       "      <th>y</th>\n",
       "      <th>heading</th>\n",
       "      <th>uniqueTrackId</th>\n",
       "      <th>xVel</th>\n",
       "      <th>yVel</th>\n",
       "      <th>speed</th>\n",
       "      <th>displacementX</th>\n",
       "      <th>displacementY</th>\n",
       "    </tr>\n",
       "  </thead>\n",
       "  <tbody>\n",
       "    <tr>\n",
       "      <th>count</th>\n",
       "      <td>250.0</td>\n",
       "      <td>250.0</td>\n",
       "      <td>250.000000</td>\n",
       "      <td>250.000000</td>\n",
       "      <td>250.000000</td>\n",
       "      <td>250.000000</td>\n",
       "      <td>250.0</td>\n",
       "      <td>250.000000</td>\n",
       "      <td>250.000000</td>\n",
       "      <td>250.000000</td>\n",
       "      <td>250.000000</td>\n",
       "      <td>250.000000</td>\n",
       "    </tr>\n",
       "    <tr>\n",
       "      <th>mean</th>\n",
       "      <td>1.0</td>\n",
       "      <td>409.0</td>\n",
       "      <td>125.500000</td>\n",
       "      <td>-82.584370</td>\n",
       "      <td>24.028050</td>\n",
       "      <td>-18.513757</td>\n",
       "      <td>1000409.0</td>\n",
       "      <td>-0.262434</td>\n",
       "      <td>0.162368</td>\n",
       "      <td>0.381344</td>\n",
       "      <td>1.415630</td>\n",
       "      <td>0.971950</td>\n",
       "    </tr>\n",
       "    <tr>\n",
       "      <th>std</th>\n",
       "      <td>0.0</td>\n",
       "      <td>0.0</td>\n",
       "      <td>72.312977</td>\n",
       "      <td>0.907234</td>\n",
       "      <td>0.513108</td>\n",
       "      <td>11.834526</td>\n",
       "      <td>0.0</td>\n",
       "      <td>0.515135</td>\n",
       "      <td>1.064946</td>\n",
       "      <td>1.161501</td>\n",
       "      <td>0.907234</td>\n",
       "      <td>0.513108</td>\n",
       "    </tr>\n",
       "    <tr>\n",
       "      <th>min</th>\n",
       "      <td>1.0</td>\n",
       "      <td>409.0</td>\n",
       "      <td>1.000000</td>\n",
       "      <td>-84.000000</td>\n",
       "      <td>23.376322</td>\n",
       "      <td>-38.677650</td>\n",
       "      <td>1000409.0</td>\n",
       "      <td>-3.847504</td>\n",
       "      <td>-0.346661</td>\n",
       "      <td>0.000000</td>\n",
       "      <td>0.000000</td>\n",
       "      <td>0.000000</td>\n",
       "    </tr>\n",
       "    <tr>\n",
       "      <th>25%</th>\n",
       "      <td>1.0</td>\n",
       "      <td>409.0</td>\n",
       "      <td>63.250000</td>\n",
       "      <td>-83.676083</td>\n",
       "      <td>23.449898</td>\n",
       "      <td>-24.276047</td>\n",
       "      <td>1000409.0</td>\n",
       "      <td>-0.344801</td>\n",
       "      <td>0.000000</td>\n",
       "      <td>0.000000</td>\n",
       "      <td>0.323917</td>\n",
       "      <td>0.611961</td>\n",
       "    </tr>\n",
       "    <tr>\n",
       "      <th>50%</th>\n",
       "      <td>1.0</td>\n",
       "      <td>409.0</td>\n",
       "      <td>125.500000</td>\n",
       "      <td>-82.625092</td>\n",
       "      <td>24.211930</td>\n",
       "      <td>-18.345345</td>\n",
       "      <td>1000409.0</td>\n",
       "      <td>-0.049877</td>\n",
       "      <td>0.000000</td>\n",
       "      <td>0.118892</td>\n",
       "      <td>1.374908</td>\n",
       "      <td>0.788070</td>\n",
       "    </tr>\n",
       "    <tr>\n",
       "      <th>75%</th>\n",
       "      <td>1.0</td>\n",
       "      <td>409.0</td>\n",
       "      <td>187.750000</td>\n",
       "      <td>-81.618652</td>\n",
       "      <td>24.388039</td>\n",
       "      <td>-14.400731</td>\n",
       "      <td>1000409.0</td>\n",
       "      <td>0.000000</td>\n",
       "      <td>0.161946</td>\n",
       "      <td>0.459685</td>\n",
       "      <td>2.381348</td>\n",
       "      <td>1.550102</td>\n",
       "    </tr>\n",
       "    <tr>\n",
       "      <th>max</th>\n",
       "      <td>1.0</td>\n",
       "      <td>409.0</td>\n",
       "      <td>250.000000</td>\n",
       "      <td>-81.375664</td>\n",
       "      <td>25.000000</td>\n",
       "      <td>0.000000</td>\n",
       "      <td>1000409.0</td>\n",
       "      <td>0.102997</td>\n",
       "      <td>16.602421</td>\n",
       "      <td>17.042408</td>\n",
       "      <td>2.624336</td>\n",
       "      <td>1.623678</td>\n",
       "    </tr>\n",
       "  </tbody>\n",
       "</table>\n",
       "</div>"
      ],
      "text/plain": [
       "       recordingId  trackId       frame           x           y     heading  \\\n",
       "count        250.0    250.0  250.000000  250.000000  250.000000  250.000000   \n",
       "mean           1.0    409.0  125.500000  -82.584370   24.028050  -18.513757   \n",
       "std            0.0      0.0   72.312977    0.907234    0.513108   11.834526   \n",
       "min            1.0    409.0    1.000000  -84.000000   23.376322  -38.677650   \n",
       "25%            1.0    409.0   63.250000  -83.676083   23.449898  -24.276047   \n",
       "50%            1.0    409.0  125.500000  -82.625092   24.211930  -18.345345   \n",
       "75%            1.0    409.0  187.750000  -81.618652   24.388039  -14.400731   \n",
       "max            1.0    409.0  250.000000  -81.375664   25.000000    0.000000   \n",
       "\n",
       "       uniqueTrackId        xVel        yVel       speed  displacementX  \\\n",
       "count          250.0  250.000000  250.000000  250.000000     250.000000   \n",
       "mean       1000409.0   -0.262434    0.162368    0.381344       1.415630   \n",
       "std              0.0    0.515135    1.064946    1.161501       0.907234   \n",
       "min        1000409.0   -3.847504   -0.346661    0.000000       0.000000   \n",
       "25%        1000409.0   -0.344801    0.000000    0.000000       0.323917   \n",
       "50%        1000409.0   -0.049877    0.000000    0.118892       1.374908   \n",
       "75%        1000409.0    0.000000    0.161946    0.459685       2.381348   \n",
       "max        1000409.0    0.102997   16.602421   17.042408       2.624336   \n",
       "\n",
       "       displacementY  \n",
       "count     250.000000  \n",
       "mean        0.971950  \n",
       "std         0.513108  \n",
       "min         0.000000  \n",
       "25%         0.611961  \n",
       "50%         0.788070  \n",
       "75%         1.550102  \n",
       "max         1.623678  "
      ]
     },
     "execution_count": 19,
     "metadata": {},
     "output_type": "execute_result"
    }
   ],
   "source": [
    "transformer.deriveAxisVelocities(pedDf)\n",
    "transformer.deriveSpeed(pedDf)\n",
    "transformer.deriveDisplacements(pedDf)\n",
    "pedDf.describe()"
   ]
  },
  {
   "cell_type": "code",
   "execution_count": 24,
   "id": "e7f311a0-dc08-475c-954a-21de87ecdc78",
   "metadata": {},
   "outputs": [],
   "source": [
    "pedIds = pedDf[\"uniqueTrackId\"].unique()"
   ]
  },
  {
   "cell_type": "code",
   "execution_count": 26,
   "id": "e3c8403b-ea53-47d4-91e9-66206105c541",
   "metadata": {},
   "outputs": [
    {
     "data": {
      "text/plain": [
       "[<matplotlib.lines.Line2D at 0x2c0ea1f74f0>]"
      ]
     },
     "execution_count": 26,
     "metadata": {},
     "output_type": "execute_result"
    },
    {
     "data": {
      "image/png": "[encoded data removed]",
      "text/plain": [
       "<Figure size 640x480 with 1 Axes>"
      ]
     },
     "metadata": {},
     "output_type": "display_data"
    }
   ],
   "source": [
    "aPed = pedDf[pedDf[\"uniqueTrackId\"] == pedIds[0]]\n",
    "plt.plot(aPed[\"yVel\"])\n",
    "plt.plot(aPed[\"xVel\"])"
   ]
  },
  {
   "cell_type": "code",
   "execution_count": 27,
   "id": "8c4dc031-7ba3-4a18-ae31-ea92ba1dbe30",
   "metadata": {},
   "outputs": [],
   "source": [
    "# we need to clip it before the translation"
   ]
  },
  {
   "cell_type": "code",
   "execution_count": null,
   "id": "eba85d86-c6de-400c-9f99-29057c71acdc",
   "metadata": {},
   "outputs": [],
   "source": []
  }
 ],
 "metadata": {
  "kernelspec": {
   "display_name": "Python 3 (ipykernel)",
   "language": "python",
   "name": "python3"
  },
  "language_info": {
   "codemirror_mode": {
    "name": "ipython",
    "version": 3
   },
   "file_extension": ".py",
   "mimetype": "text/x-python",
   "name": "python",
   "nbconvert_exporter": "python",
   "pygments_lexer": "ipython3",
   "version": "3.8.15"
  }
 },
 "nbformat": 4,
 "nbformat_minor": 5
}
